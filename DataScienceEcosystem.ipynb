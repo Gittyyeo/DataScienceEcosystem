{
 "cells": [
  {
   "cell_type": "markdown",
   "id": "bb77fff8-6f04-4bf2-ad1c-b5cd78ddc744",
   "metadata": {
    "tags": []
   },
   "source": [
    "# Data Science Tools and Ecosystem"
   ]
  },
  {
   "cell_type": "markdown",
   "id": "7635fd8a-22b5-4b0a-87d1-32d507d129b5",
   "metadata": {
    "tags": []
   },
   "source": [
    "In this notebook, Data Science Tools and Ecosystem are summarized."
   ]
  },
  {
   "cell_type": "markdown",
   "id": "92937361-ab0b-4c9e-925b-c90a6578b293",
   "metadata": {
    "tags": []
   },
   "source": [
    "Some of the popular languages that Data Scientists use are:\n",
    "\n",
    "1. Python\n",
    "2. R\n",
    "3. Julia\n"
   ]
  },
  {
   "cell_type": "markdown",
   "id": "d513d66b-b955-4fc6-b7dd-ada686d57a9c",
   "metadata": {},
   "source": [
    "Some of the commonly used libraries used by Data Scientists include:\n",
    "    \n",
    "1. SciKit-Learn\n",
    "2. SciPy\n",
    "3. ggplot2"
   ]
  },
  {
   "cell_type": "markdown",
   "id": "65c02d47-cd07-4db5-be59-5db7cb9a9e24",
   "metadata": {
    "tags": []
   },
   "source": [
    "\n",
    "\n",
    "|Data Science Tools| \n",
    "| ------ | \n",
    "| R | \n",
    "|Jupyter Notebook | \n",
    "| Apache Zeppelin | \n"
   ]
  },
  {
   "cell_type": "markdown",
   "id": "95674870-f78f-438a-83a7-7a26f6c7e7ba",
   "metadata": {},
   "source": [
    "### Below are a few examples of evaluating arithmetic expressions in Python"
   ]
  },
  {
   "cell_type": "code",
   "execution_count": 3,
   "id": "3b3503af-9c5f-49cc-b840-9e27f259ec93",
   "metadata": {
    "tags": []
   },
   "outputs": [
    {
     "data": {
      "text/plain": [
       "17"
      ]
     },
     "execution_count": 3,
     "metadata": {},
     "output_type": "execute_result"
    }
   ],
   "source": [
    "(3*4)+5\n",
    "#This a simple arithmetic expression to mutiply then add integers"
   ]
  },
  {
   "cell_type": "code",
   "execution_count": 4,
   "id": "d71cd400-4045-46a4-8a32-5cd5b622dac5",
   "metadata": {
    "tags": []
   },
   "outputs": [
    {
     "data": {
      "text/plain": [
       "3.3333333333333335"
      ]
     },
     "execution_count": 4,
     "metadata": {},
     "output_type": "execute_result"
    }
   ],
   "source": [
    "200/60\n",
    "#This will convert 200 minutes to hours by diving by 60"
   ]
  },
  {
   "cell_type": "markdown",
   "id": "b6a8992c-19b3-4cff-b53f-acfab570424e",
   "metadata": {},
   "source": [
    "Objectives:\n",
    "\n",
    "* List popular languages for Data Science\n",
    "* List commonly used libraries by Data Scientists\n",
    "* List Data Science Tools"
   ]
  },
  {
   "cell_type": "markdown",
   "id": "1d9e5785-c9db-4699-881f-8678e439d656",
   "metadata": {},
   "source": [
    "## Author\n",
    "Sherman Yeo"
   ]
  },
  {
   "cell_type": "code",
   "execution_count": null,
   "id": "601c67d4-06c6-4231-9d47-616df41e1d8b",
   "metadata": {},
   "outputs": [],
   "source": []
  }
 ],
 "metadata": {
  "kernelspec": {
   "display_name": "Python",
   "language": "python",
   "name": "conda-env-python-py"
  },
  "language_info": {
   "codemirror_mode": {
    "name": "ipython",
    "version": 3
   },
   "file_extension": ".py",
   "mimetype": "text/x-python",
   "name": "python",
   "nbconvert_exporter": "python",
   "pygments_lexer": "ipython3",
   "version": "3.7.12"
  }
 },
 "nbformat": 4,
 "nbformat_minor": 5
}
